{
  "nbformat": 4,
  "nbformat_minor": 0,
  "metadata": {
    "colab": {
      "name": "Classify.ipynb",
      "version": "0.3.2",
      "views": {},
      "default_view": {},
      "provenance": []
    },
    "kernelspec": {
      "display_name": "Python 2",
      "language": "python",
      "name": "python2"
    }
  },
  "cells": [
    {
      "metadata": {
        "id": "lsI39DWJd0Of",
        "colab_type": "code",
        "colab": {
          "autoexec": {
            "startup": false,
            "wait_interval": 0
          }
        }
      },
      "cell_type": "code",
      "source": [
        "import os\n",
        "import keras\n",
        "from keras import *\n",
        "from keras.preprocessing import image\n",
        "from keras.preprocessing.image import ImageDataGenerator\n",
        "import matplotlib as mpl\n",
        "from keras import optimizers\n",
        "from keras.layers.convolutional import Conv2D\n",
        "from keras.layers.convolutional import MaxPooling2D\n",
        "from keras.layers.convolutional import UpSampling2D\n",
        "from keras.layers.core import Activation\n",
        "from keras.layers.core import Flatten\n",
        "from keras.layers.core import Dense\n",
        "from keras import backend as K\n",
        "from sklearn.model_selection import train_test_split\n",
        "from keras.preprocessing.image import img_to_array\n",
        "from skimage.io import imsave, imread\n",
        "import matplotlib.pyplot as plt\n",
        "import numpy as np\n",
        "import cv2\n",
        "from scipy import ndimage\n",
        "from scipy.misc import imresize\n",
        "from keras.layers.convolutional import Deconv2D as Conv2DTranspose\n",
        "from keras.models import Model\n",
        "from keras.layers import Add\n",
        "from keras.callbacks import ModelCheckpoint,TensorBoard\n",
        "from keras.optimizers import Adam\n",
        "from keras.models import Sequential\n",
        "import sys\n",
        "from keras.preprocessing.image import ImageDataGenerator\n",
        "from keras import optimizers\n",
        "from keras.models import Sequential, Model\n",
        "from keras.layers import Dropout, Flatten, Dense, Activation\n",
        "from keras.layers.convolutional import Conv2D, MaxPooling2D\n",
        "from keras import callbacks\n",
        "from sklearn.metrics import confusion_matrix\n",
        "import itertools\n",
        "from keras.applications.inception_v3 import InceptionV3\n",
        "from keras.layers import Input\n",
        "from keras.layers import Input, merge, Dropout, Dense, Lambda, Flatten, Activation\n",
        "from keras.layers.convolutional import MaxPooling2D, Convolution2D, AveragePooling2D\n",
        "from keras.layers.normalization import BatchNormalization\n",
        "from keras.models import Model\n",
        "from keras.preprocessing import image\n",
        "\n",
        "from keras.models import Model\n",
        "from keras import layers\n",
        "from keras.layers import Dense\n",
        "from keras.layers import Input\n",
        "from keras.layers import BatchNormalization\n",
        "from keras.layers import Activation\n",
        "from keras.layers import Conv2D\n",
        "from keras.layers import SeparableConv2D\n",
        "from keras.layers import MaxPooling2D\n",
        "from keras.layers import GlobalAveragePooling2D\n",
        "from keras.layers import GlobalMaxPooling2D\n",
        "from keras.engine.topology import get_source_inputs\n",
        "from keras.utils.data_utils import get_file\n",
        "from keras import backend as K\n",
        "from keras.applications.imagenet_utils import decode_predictions\n",
        "from keras.applications.imagenet_utils import _obtain_input_shape\n",
        "\n",
        "from keras import backend as K\n",
        "%matplotlib inline\n",
        "\n",
        "np.random.seed(1337)"
      ],
      "execution_count": 0,
      "outputs": []
    },
    {
      "metadata": {
        "id": "oHFQdPBud0Os",
        "colab_type": "code",
        "colab": {
          "autoexec": {
            "startup": false,
            "wait_interval": 0
          }
        }
      },
      "cell_type": "code",
      "source": [
        "resize_h=256\n",
        "resize_w=256\n",
        "\n",
        "def takingInput():\n",
        "    total=len(os.listdir('melanoma/'))+len(os.listdir('others/'))\n",
        "    print(total)\n",
        "    imgs=[]\n",
        "    imgs_mask=[]\n",
        "    labels=[]\n",
        "    i = 0\n",
        "    images = os.listdir('melanoma/')\n",
        "    for image_name in images:\n",
        "        image_mask_name = image_name.split('.')[0]\n",
        "        image_mask_name = image_mask_name+\"_segmentation.png\"\n",
        "        img = ndimage.imread('melanoma/'+image_name)       \n",
        "        #img = cv2.resize(img, (resize_h, resize_w))\n",
        "        img_mask = ndimage.imread('gt/'+image_mask_name)\n",
        "        #print(size(imgs_mask))\n",
        "        #img_mask = cv2.res(img_mask, (array.shape[1], array.shape[0],1))\n",
        "        #img = np.multiply(img ,img_mask/255.)\n",
        "        #img = imresize(img,(resize_h,resize_w))\n",
        "        #ret2,th2 = cv2.threshold(img_mask,0,255,cv2.THRESH_BINARY+cv2.THRESH_OTSU)\n",
        "        labels.append(1)\n",
        "        img = img_to_array(img)\n",
        "        img_mask=img_to_array(img_mask)\n",
        "        img_mask=np.reshape(img_mask,(img_mask.shape[0],img_mask.shape[1],1))\n",
        "        img = np.multiply(img ,img_mask/255.)\n",
        "        img = imresize(img,(resize_h,resize_w))\n",
        "        imgs.append(img)\n",
        "        #imgs_mask.append(img_mask)\n",
        "        print('Done: {0}/{1} images'.format(i, total))\n",
        "        i += 1\n",
        "    images = os.listdir('others/')\n",
        "    for image_name in images:\n",
        "        image_mask_name = image_name.split('.')[0]\n",
        "        image_mask_name = image_mask_name+\"_segmentation.png\"\n",
        "        img = ndimage.imread('others/'+image_name)       \n",
        "        #img = cv2.resize(img, (resize_h, resize_w))\n",
        "        img_mask = ndimage.imread('gt/'+image_mask_name)\n",
        "        #print(size(imgs_mask))\n",
        "        #img_mask = cv2.res(img_mask, (array.shape[1], array.shape[0],1))\n",
        "        #img = np.multiply(img ,img_mask/255.)\n",
        "        #img = imresize(img,(resize_h,resize_w))\n",
        "        #ret2,th2 = cv2.threshold(img_mask,0,255,cv2.THRESH_BINARY+cv2.THRESH_OTSU)\n",
        "        labels.append(0)\n",
        "        img = img_to_array(img)\n",
        "        img_mask=img_to_array(img_mask)\n",
        "        img_mask=np.reshape(img_mask,(img_mask.shape[0],img_mask.shape[1],1))\n",
        "        img = np.multiply(img ,img_mask/255.)\n",
        "        img = imresize(img,(resize_h,resize_w))\n",
        "        imgs.append(img)\n",
        "        print('Done: {0}/{1} images'.format(i, total))\n",
        "        i += 1\n",
        "    print('out of for')\n",
        "    imgs = np.array(imgs, dtype=\"float\")\n",
        "    imgs_mask = np.array(imgs_mask,dtype=\"float\")\n",
        "    labels = np.array(labels,dtype='float')\n",
        "    print('Loading done.')\n",
        "    return imgs, labels\n",
        "\n",
        "X, Y = takingInput()"
      ],
      "execution_count": 0,
      "outputs": []
    },
    {
      "metadata": {
        "id": "UGiXC3Gud0O3",
        "colab_type": "code",
        "colab": {
          "autoexec": {
            "startup": false,
            "wait_interval": 0
          }
        }
      },
      "cell_type": "code",
      "source": [
        "np.save( 'images.npy', X)\n",
        "np.save('labels.npy', Y)"
      ],
      "execution_count": 0,
      "outputs": []
    },
    {
      "metadata": {
        "id": "mhmoJKoOd0O8",
        "colab_type": "code",
        "colab": {
          "autoexec": {
            "startup": false,
            "wait_interval": 0
          }
        }
      },
      "cell_type": "code",
      "source": [
        "X = np.load('../imgs_classify.npy')\n",
        "Y = np.load('../labels.npy')"
      ],
      "execution_count": 0,
      "outputs": []
    },
    {
      "metadata": {
        "id": "LzoGkMGed0PO",
        "colab_type": "code",
        "colab": {
          "autoexec": {
            "startup": false,
            "wait_interval": 0
          }
        },
        "outputId": "b881c458-7f39-4b19-a141-b7047bc707ae"
      },
      "cell_type": "code",
      "source": [
        "np.unique(X)"
      ],
      "execution_count": 0,
      "outputs": [
        {
          "output_type": "execute_result",
          "data": {
            "text/plain": [
              "array([  0.00000000e+00,   1.67186529e-16,   2.22915381e-16, ...,\n",
              "         9.99998152e-01,   9.99998689e-01,   1.00000000e+00])"
            ]
          },
          "metadata": {
            "tags": []
          },
          "execution_count": 7
        }
      ]
    },
    {
      "metadata": {
        "id": "1P7sZrWkd0PT",
        "colab_type": "code",
        "colab": {
          "autoexec": {
            "startup": false,
            "wait_interval": 0
          }
        }
      },
      "cell_type": "code",
      "source": [
        "(trainX, testX, trainY, testY) = train_test_split(X,Y, test_size=0.20, random_state=42)"
      ],
      "execution_count": 0,
      "outputs": []
    },
    {
      "metadata": {
        "id": "FTxXA2sbd0PV",
        "colab_type": "code",
        "colab": {
          "autoexec": {
            "startup": false,
            "wait_interval": 0
          }
        }
      },
      "cell_type": "code",
      "source": [
        "def f1_score(y_true, y_pred):\n",
        "\n",
        "    # Count positive samples.\n",
        "    c1 = K.sum(K.round(K.clip(y_true * y_pred, 0, 1)))\n",
        "    c2 = K.sum(K.round(K.clip(y_pred, 0, 1)))\n",
        "    c3 = K.sum(K.round(K.clip(y_true, 0, 1)))\n",
        "\n",
        "    # If there are no true samples, fix the F1 score at 0.\n",
        "    if c3 == 0:\n",
        "        return 0\n",
        "\n",
        "    # How many selected items are relevant?\n",
        "    precision = c1 / c2\n",
        "\n",
        "    # How many relevant items are selected?\n",
        "    recall = c1 / c3\n",
        "\n",
        "    # Calculate f1_score\n",
        "    f1_score = 2 * (precision * recall) / (precision + recall)\n",
        "    return f1_score\n",
        "\n",
        "def precision(y_true, y_pred):\n",
        "    \"\"\"Precision metric.\n",
        "    Only computes a batch-wise average of precision.\n",
        "    Computes the precision, a metric for multi-label classification of\n",
        "    how many selected items are relevant.\n",
        "    \"\"\"\n",
        "    true_positives = K.sum(K.round(K.clip(y_true * y_pred, 0, 1)))\n",
        "    predicted_positives = K.sum(K.round(K.clip(y_pred, 0, 1)))\n",
        "    precision = true_positives / (predicted_positives + K.epsilon())\n",
        "    return precision\n",
        "\n",
        "def recall(y_true, y_pred):\n",
        "    \"\"\"Recall metric.\n",
        "    Only computes a batch-wise average of recall.\n",
        "    Computes the recall, a metric for multi-label classification of\n",
        "    how many relevant items are selected.\n",
        "    \"\"\"\n",
        "    true_positives = K.sum(K.round(K.clip(y_true * y_pred, 0, 1)))\n",
        "    possible_positives = K.sum(K.round(K.clip(y_true, 0, 1)))\n",
        "    recall = true_positives / (possible_positives + K.epsilon())\n",
        "    return recall"
      ],
      "execution_count": 0,
      "outputs": []
    },
    {
      "metadata": {
        "id": "iFJAzg1Jd0PY",
        "colab_type": "code",
        "colab": {
          "autoexec": {
            "startup": false,
            "wait_interval": 0
          }
        }
      },
      "cell_type": "code",
      "source": [
        "img_width, img_height = 256, 256\n",
        "nb_train_samples = 1600\n",
        "nb_validation_samples = 400\n",
        "nb_filters1 = 32\n",
        "nb_filters2 = 64\n",
        "conv1_size = 3\n",
        "conv2_size = 2\n",
        "pool_size = 2\n",
        "classes_num = 2\n",
        "batch_size = 64\n",
        "lr = 0.0002"
      ],
      "execution_count": 0,
      "outputs": []
    },
    {
      "metadata": {
        "id": "2oTGnZaod0PZ",
        "colab_type": "code",
        "colab": {
          "autoexec": {
            "startup": false,
            "wait_interval": 0
          }
        }
      },
      "cell_type": "code",
      "source": [
        "model = Sequential()\n",
        "model.add(Conv2D(nb_filters1, (conv1_size, conv1_size), padding=\"same\", input_shape=(img_width, img_height, 3)))\n",
        "model.add(Activation(\"relu\"))\n",
        "model.add(MaxPooling2D(pool_size=(pool_size, pool_size)))\n",
        "\n",
        "model.add(Conv2D(nb_filters2, (conv2_size, conv2_size), padding=\"same\"))\n",
        "model.add(Activation(\"relu\"))\n",
        "model.add(MaxPooling2D(pool_size=(pool_size, pool_size), data_format='channels_first'))\n",
        "\n",
        "model.add(Flatten())\n",
        "model.add(Dense(256))\n",
        "model.add(Activation(\"relu\"))\n",
        "model.add(Dropout(0.5))\n",
        "model.add(Dense(1, activation='sigmoid'))\n",
        "\n",
        "model.compile(loss='binary_crossentropy',optimizer='Adam',metrics=['accuracy', f1_score, precision, recall])\n"
      ],
      "execution_count": 0,
      "outputs": []
    },
    {
      "metadata": {
        "id": "ksanAqlLd0Pd",
        "colab_type": "code",
        "colab": {
          "autoexec": {
            "startup": false,
            "wait_interval": 0
          }
        },
        "outputId": "7e6a5d78-c042-45f5-dad4-b46e483d07b8"
      },
      "cell_type": "code",
      "source": [
        "model.summary()"
      ],
      "execution_count": 0,
      "outputs": [
        {
          "output_type": "stream",
          "text": [
            "_________________________________________________________________\n",
            "Layer (type)                 Output Shape              Param #   \n",
            "=================================================================\n",
            "conv2d_1 (Conv2D)            (None, 256, 256, 32)      896       \n",
            "_________________________________________________________________\n",
            "activation_1 (Activation)    (None, 256, 256, 32)      0         \n",
            "_________________________________________________________________\n",
            "max_pooling2d_1 (MaxPooling2 (None, 128, 128, 32)      0         \n",
            "_________________________________________________________________\n",
            "conv2d_2 (Conv2D)            (None, 128, 128, 64)      8256      \n",
            "_________________________________________________________________\n",
            "activation_2 (Activation)    (None, 128, 128, 64)      0         \n",
            "_________________________________________________________________\n",
            "max_pooling2d_2 (MaxPooling2 (None, 128, 64, 32)       0         \n",
            "_________________________________________________________________\n",
            "flatten_1 (Flatten)          (None, 262144)            0         \n",
            "_________________________________________________________________\n",
            "dense_1 (Dense)              (None, 256)               67109120  \n",
            "_________________________________________________________________\n",
            "activation_3 (Activation)    (None, 256)               0         \n",
            "_________________________________________________________________\n",
            "dropout_1 (Dropout)          (None, 256)               0         \n",
            "_________________________________________________________________\n",
            "dense_2 (Dense)              (None, 1)                 257       \n",
            "=================================================================\n",
            "Total params: 67,118,529\n",
            "Trainable params: 67,118,529\n",
            "Non-trainable params: 0\n",
            "_________________________________________________________________\n"
          ],
          "name": "stdout"
        }
      ]
    },
    {
      "metadata": {
        "id": "dC17eCzjd0Pi",
        "colab_type": "code",
        "colab": {
          "autoexec": {
            "startup": false,
            "wait_interval": 0
          }
        }
      },
      "cell_type": "code",
      "source": [
        "model_checkpoint1 = ModelCheckpoint('simple_classification1.hdf5',monitor = 'loss', verbose = 1,save_best_only=True)"
      ],
      "execution_count": 0,
      "outputs": []
    },
    {
      "metadata": {
        "id": "IF4gey9Gd0Pk",
        "colab_type": "code",
        "colab": {
          "autoexec": {
            "startup": false,
            "wait_interval": 0
          }
        }
      },
      "cell_type": "code",
      "source": [
        "classifier = model.fit(trainX,trainY, batch_size = 32, epochs = 50, verbose = True, validation_data = (testX, testY),callbacks=[TensorBoard(log_dir='/tmp/gated_cnn_autoencoder', histogram_freq=0,write_graph=True),model_checkpoint1],class_weight={0: 1, 1: 8})"
      ],
      "execution_count": 0,
      "outputs": []
    },
    {
      "metadata": {
        "id": "TvDocjC1d0Pq",
        "colab_type": "code",
        "colab": {
          "autoexec": {
            "startup": false,
            "wait_interval": 0
          }
        }
      },
      "cell_type": "code",
      "source": [
        "classifier = model.predict(testX)"
      ],
      "execution_count": 0,
      "outputs": []
    },
    {
      "metadata": {
        "id": "yjGKLIUSh3JP",
        "colab_type": "code",
        "colab": {
          "autoexec": {
            "startup": false,
            "wait_interval": 0
          },
          "base_uri": "https://localhost:8080/",
          "height": 34
        },
        "outputId": "a990045c-15f5-4d63-c405-cadf222a5289",
        "executionInfo": {
          "status": "ok",
          "timestamp": 1523296945982,
          "user_tz": -330,
          "elapsed": 1206,
          "user": {
            "displayName": "Chandan Hiremath",
            "photoUrl": "//lh5.googleusercontent.com/-_5VFUxA4nts/AAAAAAAAAAI/AAAAAAAAB-o/5rqpy-uKmLo/s50-c-k-no/photo.jpg",
            "userId": "104980647446076431499"
          }
        }
      },
      "cell_type": "code",
      "source": [
        "print(\"[INFO] accuracy: {:.4f}%, f1_score: {:.4f}, precision: {:.4f}, recall: {:.4f}\".format(accuracy*100,f1_score,precision,recall))"
      ],
      "execution_count": 0,
      "outputs": [
        {
          "output_type": "stream",
          "text": [
            "[INFO] accuracy: 89.7615%, f1_score: 0.7828, precision: 0.7361, recall: 0.9209\n"
          ],
          "name": "stdout"
        }
      ]
    }
  ]
}
