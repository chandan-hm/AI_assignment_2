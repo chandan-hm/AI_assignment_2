{
  "nbformat": 4,
  "nbformat_minor": 0,
  "metadata": {
    "colab": {
      "name": "Segmentation.ipynb",
      "version": "0.3.2",
      "views": {},
      "default_view": {},
      "provenance": [],
      "collapsed_sections": []
    },
    "kernelspec": {
      "display_name": "Python 2",
      "language": "python",
      "name": "python2"
    }
  },
  "cells": [
    {
      "metadata": {
        "id": "Y_Ka7ZdFA8A1",
        "colab_type": "code",
        "colab": {
          "autoexec": {
            "startup": false,
            "wait_interval": 0
          }
        }
      },
      "cell_type": "code",
      "source": [
        "import os\n",
        "import keras\n",
        "from keras import *\n",
        "from keras.preprocessing import image\n",
        "from keras.preprocessing.image import ImageDataGenerator\n",
        "import matplotlib as mpl\n",
        "from keras.layers.convolutional import Conv2D\n",
        "from keras.layers.convolutional import MaxPooling2D\n",
        "from keras.layers.convolutional import UpSampling2D\n",
        "from keras.layers.core import Activation\n",
        "from keras.layers.core import Flatten\n",
        "from keras.layers.core import Dense\n",
        "from keras import backend as K\n",
        "from sklearn.model_selection import train_test_split\n",
        "from keras.preprocessing.image import img_to_array\n",
        "from skimage.io import imsave, imread\n",
        "import matplotlib.pyplot as plt\n",
        "import numpy as np\n",
        "import cv2\n",
        "from scipy import ndimage\n",
        "from scipy.misc import imresize\n",
        "from keras.layers.convolutional import Deconv2D as Conv2DTranspose\n",
        "from keras.models import Model\n",
        "from keras.layers import Add\n",
        "from keras.callbacks import ModelCheckpoint,TensorBoard\n",
        "from keras.optimizers import Adam\n",
        "from keras.models import Sequential\n",
        "\n",
        "np.random.seed(1337)"
      ],
      "execution_count": 0,
      "outputs": []
    },
    {
      "metadata": {
        "id": "aTzk_PqTA8A9",
        "colab_type": "code",
        "colab": {
          "autoexec": {
            "startup": false,
            "wait_interval": 0
          }
        }
      },
      "cell_type": "code",
      "source": [
        "resize_h=256\n",
        "resize_w=256\n",
        "\n",
        "def takingInput():\n",
        "    total=len(os.listdir('melanoma/'))+len(os.listdir('others/'))\n",
        "    print(total)\n",
        "    imgs=[]\n",
        "    imgs_mask=[]\n",
        "    i = 0\n",
        "    images = os.listdir('melanoma/')\n",
        "    for image_name in images:\n",
        "        image_mask_name = image_name.split('.')[0]\n",
        "        image_mask_name = image_mask_name+\"_segmentation.png\"\n",
        "        img = ndimage.imread('melanoma/'+image_name,mode = 'L')\n",
        "        img = cv2.resize(img, (resize_h, resize_w))\n",
        "        img_mask = ndimage.imread('gt/'+image_mask_name,mode = 'L')\n",
        "        img_mask = imresize(img_mask,(resize_h,resize_w))\n",
        "        ret2,th2 = cv2.threshold(img_mask,0,255,cv2.THRESH_BINARY+cv2.THRESH_OTSU)\n",
        "\n",
        "        img = img_to_array(img)\n",
        "        img_mask=img_to_array(th2)\n",
        "        imgs.append(img)\n",
        "        imgs_mask.append(img_mask)\n",
        "        print('Done: {0}/{1} images'.format(i, total))\n",
        "        i += 1\n",
        "    images = os.listdir('others/')\n",
        "    for image_name in images:\n",
        "        image_mask_name = image_name.split('.')[0] \n",
        "        image_mask_name = image_mask_name+\"_segmentation.png\"\n",
        "        img = ndimage.imread('others/'+image_name,mode = 'L')\n",
        "        img = cv2.resize(img, (resize_h, resize_w))\n",
        "        img_mask = ndimage.imread('gt/'+image_mask_name,mode = 'L')\n",
        "        img_mask=cv2.resize(img_mask,(resize_h,resize_w))\n",
        "        ret2,th2 = cv2.threshold(img_mask,0,255,cv2.THRESH_BINARY+cv2.THRESH_OTSU)\n",
        "        img = img_to_array(img)\n",
        "        \n",
        "        img_mask=img_to_array(th2)\n",
        "        imgs.append(img)\n",
        "        imgs_mask.append(img_mask)\n",
        "\n",
        "        print('Done: {0}/{1} images'.format(i, total))\n",
        "        i += 1\n",
        "    imgs = np.array(imgs, dtype=\"float\")\n",
        "    imgs_mask = np.array(imgs_mask,dtype=\"float\")\n",
        "    return imgs, imgs_mask\n",
        "\n",
        "X1, Y = takingInput()"
      ],
      "execution_count": 0,
      "outputs": []
    },
    {
      "metadata": {
        "id": "kVPThpX1A8BH",
        "colab_type": "code",
        "colab": {
          "autoexec": {
            "startup": false,
            "wait_interval": 0
          }
        }
      },
      "cell_type": "code",
      "source": [
        "np.save( 'imgs_train.npy', X1)\n",
        "np.save('imgs_mask_train.npy', Y)"
      ],
      "execution_count": 0,
      "outputs": []
    },
    {
      "metadata": {
        "id": "RYsFhdcdA8BL",
        "colab_type": "code",
        "colab": {
          "autoexec": {
            "startup": false,
            "wait_interval": 0
          }
        }
      },
      "cell_type": "code",
      "source": [
        "X1 = np.load('../imgs_train.npy')\n",
        "Y = np.load('../imgs_mask_train.npy')"
      ],
      "execution_count": 0,
      "outputs": []
    },
    {
      "metadata": {
        "id": "xKekJpNHA8BQ",
        "colab_type": "code",
        "colab": {
          "autoexec": {
            "startup": false,
            "wait_interval": 0
          }
        }
      },
      "cell_type": "code",
      "source": [
        "Y1 = Y/255."
      ],
      "execution_count": 0,
      "outputs": []
    },
    {
      "metadata": {
        "id": "968qG1OcA8BW",
        "colab_type": "code",
        "colab": {
          "autoexec": {
            "startup": false,
            "wait_interval": 0
          }
        },
        "outputId": "328354df-3d87-4098-c610-2c282709b857"
      },
      "cell_type": "code",
      "source": [
        "Y.shape"
      ],
      "execution_count": 0,
      "outputs": [
        {
          "output_type": "execute_result",
          "data": {
            "text/plain": [
              "(2000, 256, 256, 1)"
            ]
          },
          "metadata": {
            "tags": []
          },
          "execution_count": 28
        }
      ]
    },
    {
      "metadata": {
        "id": "Dhu3XbbKA8BZ",
        "colab_type": "code",
        "colab": {
          "autoexec": {
            "startup": false,
            "wait_interval": 0
          }
        }
      },
      "cell_type": "code",
      "source": [
        "X = X1/255."
      ],
      "execution_count": 0,
      "outputs": []
    },
    {
      "metadata": {
        "id": "EBxfF2rZA8Bb",
        "colab_type": "code",
        "colab": {
          "autoexec": {
            "startup": false,
            "wait_interval": 0
          }
        },
        "outputId": "67311139-a0fe-47b9-a4f2-be8f280d275b"
      },
      "cell_type": "code",
      "source": [
        "Y.shape"
      ],
      "execution_count": 0,
      "outputs": [
        {
          "output_type": "execute_result",
          "data": {
            "text/plain": [
              "(2000, 256, 256, 1)"
            ]
          },
          "metadata": {
            "tags": []
          },
          "execution_count": 30
        }
      ]
    },
    {
      "metadata": {
        "id": "M-Vf71DuA8Bd",
        "colab_type": "code",
        "colab": {
          "autoexec": {
            "startup": false,
            "wait_interval": 0
          }
        }
      },
      "cell_type": "code",
      "source": [
        "(trainX, testX, trainY, testY) = train_test_split(X,Y1, test_size=0.20, random_state=42)"
      ],
      "execution_count": 0,
      "outputs": []
    },
    {
      "metadata": {
        "id": "kuDdNxjgA8Bg",
        "colab_type": "code",
        "colab": {
          "autoexec": {
            "startup": false,
            "wait_interval": 0
          }
        },
        "outputId": "1c3b4a44-2a5e-4a89-9830-9977ac0fac2c"
      },
      "cell_type": "code",
      "source": [
        "np.unique(trainY)"
      ],
      "execution_count": 0,
      "outputs": [
        {
          "output_type": "execute_result",
          "data": {
            "text/plain": [
              "array([ 0.,  1.])"
            ]
          },
          "metadata": {
            "tags": []
          },
          "execution_count": 32
        }
      ]
    },
    {
      "metadata": {
        "id": "Bdxh1lwLA8Bj",
        "colab_type": "code",
        "colab": {
          "autoexec": {
            "startup": false,
            "wait_interval": 0
          }
        }
      },
      "cell_type": "code",
      "source": [
        "smooth = 1.\n",
        "def dice_coef(y_true, y_pred):\n",
        "    y_true_f = K.flatten(y_true)\n",
        "    y_pred_f = K.flatten(y_pred)\n",
        "    intersection = K.sum(y_true_f * y_pred_f)\n",
        "    return (2. * intersection + smooth) / (K.sum(y_true_f) + K.sum(y_pred_f) + smooth)\n",
        "\n",
        "\n",
        "def dice_coef_loss(y_true, y_pred):\n",
        "    return -K.log(dice_coef(y_true, y_pred))"
      ],
      "execution_count": 0,
      "outputs": []
    },
    {
      "metadata": {
        "id": "eLzL-sQAA8Bn",
        "colab_type": "code",
        "colab": {
          "autoexec": {
            "startup": false,
            "wait_interval": 0
          }
        }
      },
      "cell_type": "code",
      "source": [
        "def get_unet():\n",
        "    inputs = Input((None, None, 1))\n",
        "    conv1 = Conv2D(32, (3, 3), activation='relu', padding='same')(inputs)\n",
        "    conv1 = Conv2D(32, (3, 3), activation='relu', padding='same')(conv1)\n",
        "    pool1 = MaxPooling2D(pool_size=(2, 2))(conv1)\n",
        "\n",
        "    conv2 = Conv2D(64, (3, 3), activation='relu', padding='same')(pool1)\n",
        "    conv2 = Conv2D(64, (3, 3), activation='relu', padding='same')(conv2)\n",
        "    pool2 = MaxPooling2D(pool_size=(2, 2))(conv2)\n",
        "\n",
        "    conv3 = Conv2D(128, (3, 3), activation='relu', padding='same')(pool2)\n",
        "    conv3 = Conv2D(128, (3, 3), activation='relu', padding='same')(conv3)\n",
        "    pool3 = MaxPooling2D(pool_size=(2, 2))(conv3)\n",
        "\n",
        "    conv4 = Conv2D(256, (3, 3), activation='relu', padding='same')(pool3)\n",
        "    conv4 = Conv2D(256, (3, 3), activation='relu', padding='same')(conv4)\n",
        "    pool4 = MaxPooling2D(pool_size=(2, 2))(conv4)\n",
        "\n",
        "    conv5 = Conv2D(512, (3, 3), activation='relu', padding='same')(pool4)\n",
        "    conv5 = Conv2D(512, (3, 3), activation='relu', padding='same')(conv5)\n",
        "    \n",
        "    up6 = Add()([Conv2DTranspose(256, (2, 2), strides=(2, 2), padding='same')(conv5), conv4])\n",
        "    conv6 = Conv2D(256, (3, 3), activation='relu', padding='same')(up6)\n",
        "    conv6 = Conv2D(256, (3, 3), activation='relu', padding='same')(conv6)\n",
        "\n",
        "    up7 = Add()([Conv2DTranspose(128, (2, 2), strides=(2, 2), padding='same')(conv6), conv3])\n",
        "    conv7 = Conv2D(128, (3, 3), activation='relu', padding='same')(up7)\n",
        "    conv7 = Conv2D(128, (3, 3), activation='relu', padding='same')(conv7)\n",
        "\n",
        "    up8 = Add()([Conv2DTranspose(64, (2, 2), strides=(2, 2), padding='same')(conv7), conv2])\n",
        "    conv8 = Conv2D(64, (3, 3), activation='relu', padding='same')(up8)\n",
        "    conv8 = Conv2D(64, (3, 3), activation='relu', padding='same')(conv8)\n",
        "\n",
        "    up9 = Add()([Conv2DTranspose(32, (2, 2), strides=(2, 2), padding='same')(conv8), conv1])\n",
        "    conv9 = Conv2D(32, (3, 3), activation='relu', padding='same')(up9)\n",
        "    conv9 = Conv2D(32, (3, 3), activation='relu', padding='same')(conv9)\n",
        "\n",
        "    conv10 = Conv2D(1, (1, 1), activation='sigmoid')(conv9)\n",
        "\n",
        "    model = Model(inputs=[inputs], outputs=[conv10])\n",
        "  \n",
        "    model.compile(optimizer=Adam(lr=1e-5), loss='binary_crossentropy', metrics=[dice_coef,'accuracy'])\n",
        "\n",
        "    return model"
      ],
      "execution_count": 0,
      "outputs": []
    },
    {
      "metadata": {
        "id": "eG-0g85KA8Bq",
        "colab_type": "code",
        "colab": {
          "autoexec": {
            "startup": false,
            "wait_interval": 0
          }
        }
      },
      "cell_type": "code",
      "source": [
        "model = get_unet()"
      ],
      "execution_count": 0,
      "outputs": []
    },
    {
      "metadata": {
        "id": "cXot_q8_A8Bs",
        "colab_type": "code",
        "colab": {
          "autoexec": {
            "startup": false,
            "wait_interval": 0
          }
        },
        "outputId": "c132c7b8-4d12-4000-c13d-076b55baf6a4"
      },
      "cell_type": "code",
      "source": [
        "model.summary()"
      ],
      "execution_count": 0,
      "outputs": [
        {
          "output_type": "stream",
          "text": [
            "__________________________________________________________________________________________________\n",
            "Layer (type)                    Output Shape         Param #     Connected to                     \n",
            "==================================================================================================\n",
            "input_2 (InputLayer)            (None, None, None, 1 0                                            \n",
            "__________________________________________________________________________________________________\n",
            "conv2d_20 (Conv2D)              (None, None, None, 3 320         input_2[0][0]                    \n",
            "__________________________________________________________________________________________________\n",
            "conv2d_21 (Conv2D)              (None, None, None, 3 9248        conv2d_20[0][0]                  \n",
            "__________________________________________________________________________________________________\n",
            "max_pooling2d_5 (MaxPooling2D)  (None, None, None, 3 0           conv2d_21[0][0]                  \n",
            "__________________________________________________________________________________________________\n",
            "conv2d_22 (Conv2D)              (None, None, None, 6 18496       max_pooling2d_5[0][0]            \n",
            "__________________________________________________________________________________________________\n",
            "conv2d_23 (Conv2D)              (None, None, None, 6 36928       conv2d_22[0][0]                  \n",
            "__________________________________________________________________________________________________\n",
            "max_pooling2d_6 (MaxPooling2D)  (None, None, None, 6 0           conv2d_23[0][0]                  \n",
            "__________________________________________________________________________________________________\n",
            "conv2d_24 (Conv2D)              (None, None, None, 1 73856       max_pooling2d_6[0][0]            \n",
            "__________________________________________________________________________________________________\n",
            "conv2d_25 (Conv2D)              (None, None, None, 1 147584      conv2d_24[0][0]                  \n",
            "__________________________________________________________________________________________________\n",
            "max_pooling2d_7 (MaxPooling2D)  (None, None, None, 1 0           conv2d_25[0][0]                  \n",
            "__________________________________________________________________________________________________\n",
            "conv2d_26 (Conv2D)              (None, None, None, 2 295168      max_pooling2d_7[0][0]            \n",
            "__________________________________________________________________________________________________\n",
            "conv2d_27 (Conv2D)              (None, None, None, 2 590080      conv2d_26[0][0]                  \n",
            "__________________________________________________________________________________________________\n",
            "max_pooling2d_8 (MaxPooling2D)  (None, None, None, 2 0           conv2d_27[0][0]                  \n",
            "__________________________________________________________________________________________________\n",
            "conv2d_28 (Conv2D)              (None, None, None, 5 1180160     max_pooling2d_8[0][0]            \n",
            "__________________________________________________________________________________________________\n",
            "conv2d_29 (Conv2D)              (None, None, None, 5 2359808     conv2d_28[0][0]                  \n",
            "__________________________________________________________________________________________________\n",
            "conv2d_transpose_5 (Conv2DTrans (None, None, None, 2 524544      conv2d_29[0][0]                  \n",
            "__________________________________________________________________________________________________\n",
            "add_5 (Add)                     (None, None, None, 2 0           conv2d_transpose_5[0][0]         \n",
            "                                                                 conv2d_27[0][0]                  \n",
            "__________________________________________________________________________________________________\n",
            "conv2d_30 (Conv2D)              (None, None, None, 2 590080      add_5[0][0]                      \n",
            "__________________________________________________________________________________________________\n",
            "conv2d_31 (Conv2D)              (None, None, None, 2 590080      conv2d_30[0][0]                  \n",
            "__________________________________________________________________________________________________\n",
            "conv2d_transpose_6 (Conv2DTrans (None, None, None, 1 131200      conv2d_31[0][0]                  \n",
            "__________________________________________________________________________________________________\n",
            "add_6 (Add)                     (None, None, None, 1 0           conv2d_transpose_6[0][0]         \n",
            "                                                                 conv2d_25[0][0]                  \n",
            "__________________________________________________________________________________________________\n",
            "conv2d_32 (Conv2D)              (None, None, None, 1 147584      add_6[0][0]                      \n",
            "__________________________________________________________________________________________________\n",
            "conv2d_33 (Conv2D)              (None, None, None, 1 147584      conv2d_32[0][0]                  \n",
            "__________________________________________________________________________________________________\n",
            "conv2d_transpose_7 (Conv2DTrans (None, None, None, 6 32832       conv2d_33[0][0]                  \n",
            "__________________________________________________________________________________________________\n",
            "add_7 (Add)                     (None, None, None, 6 0           conv2d_transpose_7[0][0]         \n",
            "                                                                 conv2d_23[0][0]                  \n",
            "__________________________________________________________________________________________________\n",
            "conv2d_34 (Conv2D)              (None, None, None, 6 36928       add_7[0][0]                      \n",
            "__________________________________________________________________________________________________\n",
            "conv2d_35 (Conv2D)              (None, None, None, 6 36928       conv2d_34[0][0]                  \n",
            "__________________________________________________________________________________________________\n",
            "conv2d_transpose_8 (Conv2DTrans (None, None, None, 3 8224        conv2d_35[0][0]                  \n",
            "__________________________________________________________________________________________________\n",
            "add_8 (Add)                     (None, None, None, 3 0           conv2d_transpose_8[0][0]         \n",
            "                                                                 conv2d_21[0][0]                  \n",
            "__________________________________________________________________________________________________\n",
            "conv2d_36 (Conv2D)              (None, None, None, 3 9248        add_8[0][0]                      \n",
            "__________________________________________________________________________________________________\n",
            "conv2d_37 (Conv2D)              (None, None, None, 3 9248        conv2d_36[0][0]                  \n",
            "__________________________________________________________________________________________________\n",
            "conv2d_38 (Conv2D)              (None, None, None, 1 33          conv2d_37[0][0]                  \n",
            "==================================================================================================\n",
            "Total params: 6,976,161\n",
            "Trainable params: 6,976,161\n",
            "Non-trainable params: 0\n",
            "__________________________________________________________________________________________________\n"
          ],
          "name": "stdout"
        }
      ]
    },
    {
      "metadata": {
        "id": "3VU1C9MoA8Bw",
        "colab_type": "code",
        "colab": {
          "autoexec": {
            "startup": false,
            "wait_interval": 0
          }
        }
      },
      "cell_type": "code",
      "source": [
        "model_checkpoint1 = ModelCheckpoint('./models/U_net_1E_16B.hdf5',monitor = 'loss', verbose = 1,save_best_only=True)"
      ],
      "execution_count": 0,
      "outputs": []
    },
    {
      "metadata": {
        "id": "QV23eZWhA8Bx",
        "colab_type": "code",
        "colab": {
          "autoexec": {
            "startup": false,
            "wait_interval": 0
          }
        },
        "outputId": "925f352c-b78b-4176-94b8-e8d82eb4c50c"
      },
      "cell_type": "code",
      "source": [
        "classifier = model.fit(trainX,trainY, batch_size = 32, epochs = 50, verbose = True, validation_data = (testX, testY),callbacks=[TensorBoard(log_dir='/tmp/gated_cnn_autoencoder', histogram_freq=0,write_graph=True),model_checkpoint1])"
      ],
      "execution_count": 0,
      "outputs": [
        {
          "output_type": "stream",
          "text": [
            "Train on 1600 samples, validate on 400 samples\n",
            "Epoch 1/50\n",
            "1568/1600 [============================>.] - ETA: 18s - loss: 0.6870 - dice_coef: 0.2766 - acc: 0.8007\n",
            "Epoch 00001: loss improved from inf to 0.68682, saving model to ./models/U_net_1E_16B.hdf5\n",
            "1600/1600 [==============================] - 1004s 628ms/step - loss: 0.6868 - dice_coef: 0.2762 - acc: 0.8012 - val_loss: 0.6802 - val_dice_coef: 0.2846 - val_acc: 0.7952\n",
            "Epoch 2/50\n",
            "1568/1600 [============================>.] - ETA: 18s - loss: 0.6670 - dice_coef: 0.2750 - acc: 0.8068\n",
            "Epoch 00002: loss improved from 0.68682 to 0.66652, saving model to ./models/U_net_1E_16B.hdf5\n",
            "1600/1600 [==============================] - 997s 623ms/step - loss: 0.6665 - dice_coef: 0.2745 - acc: 0.8073 - val_loss: 0.6462 - val_dice_coef: 0.2815 - val_acc: 0.7984\n",
            "Epoch 3/50\n",
            "1568/1600 [============================>.] - ETA: 18s - loss: 0.5596 - dice_coef: 0.2348 - acc: 0.8075\n",
            "Epoch 00003: loss improved from 0.66652 to 0.55808, saving model to ./models/U_net_1E_16B.hdf5\n",
            "1600/1600 [==============================] - 996s 622ms/step - loss: 0.5581 - dice_coef: 0.2343 - acc: 0.8078 - val_loss: 0.5114 - val_dice_coef: 0.2259 - val_acc: 0.7984\n",
            "Epoch 4/50\n",
            "1568/1600 [============================>.] - ETA: 18s - loss: 0.4905 - dice_coef: 0.2081 - acc: 0.8077\n",
            "Epoch 00004: loss improved from 0.55808 to 0.49011, saving model to ./models/U_net_1E_16B.hdf5\n",
            "1600/1600 [==============================] - 996s 622ms/step - loss: 0.4901 - dice_coef: 0.2080 - acc: 0.8078 - val_loss: 0.4934 - val_dice_coef: 0.2180 - val_acc: 0.7984\n",
            "Epoch 5/50\n",
            "1568/1600 [============================>.] - ETA: 18s - loss: 0.4695 - dice_coef: 0.2176 - acc: 0.8079\n",
            "Epoch 00005: loss improved from 0.49011 to 0.46923, saving model to ./models/U_net_1E_16B.hdf5\n",
            "1600/1600 [==============================] - 996s 623ms/step - loss: 0.4692 - dice_coef: 0.2177 - acc: 0.8078 - val_loss: 0.4664 - val_dice_coef: 0.2265 - val_acc: 0.7984\n",
            "Epoch 6/50\n",
            "1568/1600 [============================>.] - ETA: 18s - loss: 0.4176 - dice_coef: 0.2649 - acc: 0.8091\n",
            "Epoch 00006: loss improved from 0.46923 to 0.41924, saving model to ./models/U_net_1E_16B.hdf5\n",
            "1600/1600 [==============================] - 996s 622ms/step - loss: 0.4192 - dice_coef: 0.2661 - acc: 0.8078 - val_loss: 0.4130 - val_dice_coef: 0.3116 - val_acc: 0.7984\n",
            "Epoch 7/50\n",
            "1568/1600 [============================>.] - ETA: 18s - loss: 0.3878 - dice_coef: 0.3205 - acc: 0.8080\n",
            "Epoch 00007: loss improved from 0.41924 to 0.38846, saving model to ./models/U_net_1E_16B.hdf5\n",
            "1600/1600 [==============================] - 996s 622ms/step - loss: 0.3885 - dice_coef: 0.3207 - acc: 0.8078 - val_loss: 0.4035 - val_dice_coef: 0.3385 - val_acc: 0.7984\n",
            "Epoch 8/50\n",
            "1568/1600 [============================>.] - ETA: 18s - loss: 0.3730 - dice_coef: 0.3398 - acc: 0.8082\n",
            "Epoch 00008: loss improved from 0.38846 to 0.37252, saving model to ./models/U_net_1E_16B.hdf5\n",
            "1600/1600 [==============================] - 996s 622ms/step - loss: 0.3725 - dice_coef: 0.3409 - acc: 0.8078 - val_loss: 0.3851 - val_dice_coef: 0.3533 - val_acc: 0.7984\n",
            "Epoch 9/50\n",
            "1568/1600 [============================>.] - ETA: 18s - loss: 0.3643 - dice_coef: 0.3531 - acc: 0.8077\n",
            "Epoch 00009: loss improved from 0.37252 to 0.36388, saving model to ./models/U_net_1E_16B.hdf5\n",
            "1600/1600 [==============================] - 996s 622ms/step - loss: 0.3639 - dice_coef: 0.3533 - acc: 0.8078 - val_loss: 0.3768 - val_dice_coef: 0.3629 - val_acc: 0.7984\n",
            "Epoch 10/50\n",
            "1568/1600 [============================>.] - ETA: 18s - loss: 0.3514 - dice_coef: 0.3700 - acc: 0.8088\n",
            "Epoch 00010: loss improved from 0.36388 to 0.35294, saving model to ./models/U_net_1E_16B.hdf5\n",
            "1600/1600 [==============================] - 996s 622ms/step - loss: 0.3529 - dice_coef: 0.3706 - acc: 0.8078 - val_loss: 0.3718 - val_dice_coef: 0.3886 - val_acc: 0.7984\n",
            "Epoch 11/50\n",
            "1568/1600 [============================>.] - ETA: 18s - loss: 0.3443 - dice_coef: 0.3868 - acc: 0.8099\n",
            "Epoch 00011: loss improved from 0.35294 to 0.34381, saving model to ./models/U_net_1E_16B.hdf5\n",
            "1600/1600 [==============================] - 996s 622ms/step - loss: 0.3438 - dice_coef: 0.3865 - acc: 0.8105 - val_loss: 0.3575 - val_dice_coef: 0.3991 - val_acc: 0.8106\n",
            "Epoch 12/50\n",
            "1568/1600 [============================>.] - ETA: 18s - loss: 0.3332 - dice_coef: 0.4018 - acc: 0.8367\n",
            "Epoch 00012: loss improved from 0.34381 to 0.33269, saving model to ./models/U_net_1E_16B.hdf5\n",
            "1600/1600 [==============================] - 1018s 636ms/step - loss: 0.3327 - dice_coef: 0.4023 - acc: 0.8375 - val_loss: 0.3484 - val_dice_coef: 0.4163 - val_acc: 0.8583\n",
            "Epoch 13/50\n",
            "1568/1600 [============================>.] - ETA: 18s - loss: 0.3274 - dice_coef: 0.4189 - acc: 0.8878\n",
            "Epoch 00013: loss improved from 0.33269 to 0.32728, saving model to ./models/U_net_1E_16B.hdf5\n",
            "1600/1600 [==============================] - 1020s 637ms/step - loss: 0.3273 - dice_coef: 0.4188 - acc: 0.8878 - val_loss: 0.3368 - val_dice_coef: 0.4458 - val_acc: 0.9046\n",
            "Epoch 14/50\n",
            "1568/1600 [============================>.] - ETA: 18s - loss: 0.2927 - dice_coef: 0.4978 - acc: 0.9102\n",
            "Epoch 00014: loss improved from 0.32728 to 0.29164, saving model to ./models/U_net_1E_16B.hdf5\n",
            "1600/1600 [==============================] - 1015s 635ms/step - loss: 0.2916 - dice_coef: 0.5005 - acc: 0.9104 - val_loss: 0.2807 - val_dice_coef: 0.5836 - val_acc: 0.9101\n",
            "Epoch 15/50\n",
            "1568/1600 [============================>.] - ETA: 18s - loss: 0.2543 - dice_coef: 0.6207 - acc: 0.9144\n",
            "Epoch 00015: loss improved from 0.29164 to 0.25447, saving model to ./models/U_net_1E_16B.hdf5\n",
            "1600/1600 [==============================] - 1018s 636ms/step - loss: 0.2545 - dice_coef: 0.6197 - acc: 0.9145 - val_loss: 0.2738 - val_dice_coef: 0.6263 - val_acc: 0.9061\n",
            "Epoch 16/50\n",
            "1568/1600 [============================>.] - ETA: 18s - loss: 0.2429 - dice_coef: 0.6515 - acc: 0.9185\n",
            "Epoch 00016: loss improved from 0.25447 to 0.24231, saving model to ./models/U_net_1E_16B.hdf5\n",
            "1600/1600 [==============================] - 1015s 634ms/step - loss: 0.2423 - dice_coef: 0.6520 - acc: 0.9186 - val_loss: 0.2557 - val_dice_coef: 0.6461 - val_acc: 0.9128\n",
            "Epoch 17/50\n",
            "1568/1600 [============================>.] - ETA: 18s - loss: 0.2349 - dice_coef: 0.6604 - acc: 0.9207\n",
            "Epoch 00017: loss improved from 0.24231 to 0.23498, saving model to ./models/U_net_1E_16B.hdf5\n",
            "1600/1600 [==============================] - 1017s 635ms/step - loss: 0.2350 - dice_coef: 0.6609 - acc: 0.9207 - val_loss: 0.2459 - val_dice_coef: 0.6631 - val_acc: 0.9169\n",
            "Epoch 18/50\n",
            "1568/1600 [============================>.] - ETA: 18s - loss: 0.2374 - dice_coef: 0.6525 - acc: 0.9191\n",
            "Epoch 00018: loss did not improve\n",
            "1600/1600 [==============================] - 1003s 627ms/step - loss: 0.2363 - dice_coef: 0.6527 - acc: 0.9195 - val_loss: 0.2440 - val_dice_coef: 0.6774 - val_acc: 0.9173\n",
            "Epoch 19/50\n",
            "1568/1600 [============================>.] - ETA: 18s - loss: 0.2349 - dice_coef: 0.6680 - acc: 0.9195\n",
            "Epoch 00019: loss did not improve\n",
            "1600/1600 [==============================] - 996s 622ms/step - loss: 0.2352 - dice_coef: 0.6684 - acc: 0.9193 - val_loss: 0.2463 - val_dice_coef: 0.6357 - val_acc: 0.9154\n",
            "Epoch 20/50\n",
            "1568/1600 [============================>.] - ETA: 18s - loss: 0.2284 - dice_coef: 0.6669 - acc: 0.9216\n",
            "Epoch 00020: loss improved from 0.23498 to 0.22783, saving model to ./models/U_net_1E_16B.hdf5\n",
            "1600/1600 [==============================] - 997s 623ms/step - loss: 0.2278 - dice_coef: 0.6660 - acc: 0.9218 - val_loss: 0.2325 - val_dice_coef: 0.6813 - val_acc: 0.9205\n",
            "Epoch 21/50\n",
            "1568/1600 [============================>.] - ETA: 18s - loss: 0.2169 - dice_coef: 0.6869 - acc: 0.9259\n",
            "Epoch 00021: loss improved from 0.22783 to 0.21798, saving model to ./models/U_net_1E_16B.hdf5\n",
            "1600/1600 [==============================] - 1011s 632ms/step - loss: 0.2180 - dice_coef: 0.6873 - acc: 0.9256 - val_loss: 0.2408 - val_dice_coef: 0.6857 - val_acc: 0.9143\n",
            "Epoch 22/50\n",
            "1568/1600 [============================>.] - ETA: 18s - loss: 0.2264 - dice_coef: 0.6710 - acc: 0.9218\n",
            "Epoch 00022: loss did not improve\n",
            "1600/1600 [==============================] - 996s 622ms/step - loss: 0.2259 - dice_coef: 0.6710 - acc: 0.9218 - val_loss: 0.2322 - val_dice_coef: 0.6832 - val_acc: 0.9198\n"
          ],
          "name": "stdout"
        },
        {
          "output_type": "stream",
          "text": [
            "Epoch 23/50\n",
            "1568/1600 [============================>.] - ETA: 18s - loss: 0.2218 - dice_coef: 0.6831 - acc: 0.9230\n",
            "Epoch 00023: loss did not improve\n",
            "1600/1600 [==============================] - 1008s 630ms/step - loss: 0.2210 - dice_coef: 0.6823 - acc: 0.9233 - val_loss: 0.2222 - val_dice_coef: 0.6793 - val_acc: 0.9234\n",
            "Epoch 24/50\n",
            "1568/1600 [============================>.] - ETA: 18s - loss: 0.2064 - dice_coef: 0.7016 - acc: 0.9288\n",
            "Epoch 00024: loss improved from 0.21798 to 0.20585, saving model to ./models/U_net_1E_16B.hdf5\n",
            "1600/1600 [==============================] - 998s 623ms/step - loss: 0.2059 - dice_coef: 0.7022 - acc: 0.9290 - val_loss: 0.2136 - val_dice_coef: 0.7051 - val_acc: 0.9253\n",
            "Epoch 25/50\n",
            "1568/1600 [============================>.] - ETA: 18s - loss: 0.2011 - dice_coef: 0.7109 - acc: 0.9301\n",
            "Epoch 00025: loss improved from 0.20585 to 0.20142, saving model to ./models/U_net_1E_16B.hdf5\n",
            "1600/1600 [==============================] - 996s 623ms/step - loss: 0.2014 - dice_coef: 0.7108 - acc: 0.9300 - val_loss: 0.2092 - val_dice_coef: 0.7087 - val_acc: 0.9267\n",
            "Epoch 26/50\n",
            "1568/1600 [============================>.] - ETA: 18s - loss: 0.1965 - dice_coef: 0.7160 - acc: 0.9315\n",
            "Epoch 00026: loss improved from 0.20142 to 0.19754, saving model to ./models/U_net_1E_16B.hdf5\n",
            "1600/1600 [==============================] - 996s 623ms/step - loss: 0.1975 - dice_coef: 0.7147 - acc: 0.9311 - val_loss: 0.2061 - val_dice_coef: 0.7137 - val_acc: 0.9272\n",
            "Epoch 27/50\n",
            "1568/1600 [============================>.] - ETA: 18s - loss: 0.2033 - dice_coef: 0.7140 - acc: 0.9289\n",
            "Epoch 00027: loss did not improve\n",
            "1600/1600 [==============================] - 996s 622ms/step - loss: 0.2025 - dice_coef: 0.7129 - acc: 0.9292 - val_loss: 0.2169 - val_dice_coef: 0.6930 - val_acc: 0.9231\n",
            "Epoch 28/50\n",
            "1568/1600 [============================>.] - ETA: 18s - loss: 0.1959 - dice_coef: 0.7136 - acc: 0.9312\n",
            "Epoch 00028: loss improved from 0.19754 to 0.19590, saving model to ./models/U_net_1E_16B.hdf5\n",
            "1600/1600 [==============================] - 996s 623ms/step - loss: 0.1959 - dice_coef: 0.7135 - acc: 0.9311 - val_loss: 0.2040 - val_dice_coef: 0.7140 - val_acc: 0.9274\n",
            "Epoch 29/50\n",
            "1568/1600 [============================>.] - ETA: 18s - loss: 0.2009 - dice_coef: 0.7112 - acc: 0.9294\n",
            "Epoch 00029: loss did not improve\n",
            "1600/1600 [==============================] - 996s 623ms/step - loss: 0.2018 - dice_coef: 0.7109 - acc: 0.9292 - val_loss: 0.2034 - val_dice_coef: 0.7059 - val_acc: 0.9287\n",
            "Epoch 30/50\n",
            "1568/1600 [============================>.] - ETA: 18s - loss: 0.1946 - dice_coef: 0.7135 - acc: 0.9314\n",
            "Epoch 00030: loss improved from 0.19590 to 0.19359, saving model to ./models/U_net_1E_16B.hdf5\n",
            "1600/1600 [==============================] - 996s 623ms/step - loss: 0.1936 - dice_coef: 0.7147 - acc: 0.9318 - val_loss: 0.2187 - val_dice_coef: 0.7146 - val_acc: 0.9241\n",
            "Epoch 31/50\n",
            "1568/1600 [============================>.] - ETA: 18s - loss: 0.1967 - dice_coef: 0.7159 - acc: 0.9310\n",
            "Epoch 00031: loss did not improve\n",
            "1600/1600 [==============================] - 996s 622ms/step - loss: 0.1961 - dice_coef: 0.7170 - acc: 0.9310 - val_loss: 0.1992 - val_dice_coef: 0.7263 - val_acc: 0.9280\n",
            "Epoch 32/50\n",
            "1568/1600 [============================>.] - ETA: 18s - loss: 0.1842 - dice_coef: 0.7341 - acc: 0.9341\n",
            "Epoch 00032: loss improved from 0.19359 to 0.18296, saving model to ./models/U_net_1E_16B.hdf5\n",
            "1600/1600 [==============================] - 996s 623ms/step - loss: 0.1830 - dice_coef: 0.7343 - acc: 0.9346 - val_loss: 0.1947 - val_dice_coef: 0.7302 - val_acc: 0.9297\n",
            "Epoch 33/50\n",
            "1568/1600 [============================>.] - ETA: 18s - loss: 0.1797 - dice_coef: 0.7366 - acc: 0.9359\n",
            "Epoch 00033: loss improved from 0.18296 to 0.17990, saving model to ./models/U_net_1E_16B.hdf5\n",
            "1600/1600 [==============================] - 996s 623ms/step - loss: 0.1799 - dice_coef: 0.7365 - acc: 0.9357 - val_loss: 0.1949 - val_dice_coef: 0.7335 - val_acc: 0.9301\n",
            "Epoch 34/50\n",
            "1568/1600 [============================>.] - ETA: 18s - loss: 0.1912 - dice_coef: 0.7227 - acc: 0.9311\n",
            "Epoch 00034: loss did not improve\n",
            "1600/1600 [==============================] - 996s 622ms/step - loss: 0.1909 - dice_coef: 0.7237 - acc: 0.9312 - val_loss: 0.2177 - val_dice_coef: 0.7113 - val_acc: 0.9224\n",
            "Epoch 35/50\n",
            "1568/1600 [============================>.] - ETA: 18s - loss: 0.1914 - dice_coef: 0.7237 - acc: 0.9317\n",
            "Epoch 00035: loss did not improve\n",
            "1600/1600 [==============================] - 997s 623ms/step - loss: 0.1921 - dice_coef: 0.7228 - acc: 0.9313 - val_loss: 0.1992 - val_dice_coef: 0.7063 - val_acc: 0.9281\n",
            "Epoch 36/50\n",
            "1568/1600 [============================>.] - ETA: 18s - loss: 0.1929 - dice_coef: 0.7153 - acc: 0.9314\n",
            "Epoch 00036: loss did not improve\n",
            "1600/1600 [==============================] - 997s 623ms/step - loss: 0.1930 - dice_coef: 0.7150 - acc: 0.9313 - val_loss: 0.1933 - val_dice_coef: 0.7331 - val_acc: 0.9302\n",
            "Epoch 37/50\n",
            "1568/1600 [============================>.] - ETA: 18s - loss: 0.1781 - dice_coef: 0.7395 - acc: 0.9359\n",
            "Epoch 00037: loss improved from 0.17990 to 0.17805, saving model to ./models/U_net_1E_16B.hdf5\n",
            "1600/1600 [==============================] - 996s 623ms/step - loss: 0.1780 - dice_coef: 0.7403 - acc: 0.9358 - val_loss: 0.1907 - val_dice_coef: 0.7286 - val_acc: 0.9311\n",
            "Epoch 38/50\n",
            "1568/1600 [============================>.] - ETA: 18s - loss: 0.1776 - dice_coef: 0.7424 - acc: 0.9353\n",
            "Epoch 00038: loss improved from 0.17805 to 0.17775, saving model to ./models/U_net_1E_16B.hdf5\n",
            "1600/1600 [==============================] - 996s 623ms/step - loss: 0.1777 - dice_coef: 0.7409 - acc: 0.9352 - val_loss: 0.1905 - val_dice_coef: 0.7329 - val_acc: 0.9317\n",
            "Epoch 39/50\n",
            "1568/1600 [============================>.] - ETA: 18s - loss: 0.1835 - dice_coef: 0.7321 - acc: 0.9339\n",
            "Epoch 00039: loss did not improve\n",
            "1600/1600 [==============================] - 996s 623ms/step - loss: 0.1828 - dice_coef: 0.7327 - acc: 0.9342 - val_loss: 0.1963 - val_dice_coef: 0.7169 - val_acc: 0.9290\n",
            "Epoch 40/50\n",
            "1568/1600 [============================>.] - ETA: 18s - loss: 0.1798 - dice_coef: 0.7415 - acc: 0.9354\n",
            "Epoch 00040: loss did not improve\n",
            "1600/1600 [==============================] - 996s 623ms/step - loss: 0.1800 - dice_coef: 0.7408 - acc: 0.9353 - val_loss: 0.2023 - val_dice_coef: 0.7095 - val_acc: 0.9272\n",
            "Epoch 41/50\n",
            "1568/1600 [============================>.] - ETA: 18s - loss: 0.1813 - dice_coef: 0.7298 - acc: 0.9346\n",
            "Epoch 00041: loss did not improve\n",
            "1600/1600 [==============================] - 997s 623ms/step - loss: 0.1815 - dice_coef: 0.7304 - acc: 0.9344 - val_loss: 0.1855 - val_dice_coef: 0.7393 - val_acc: 0.9325\n",
            "Epoch 42/50\n",
            "1568/1600 [============================>.] - ETA: 18s - loss: 0.1744 - dice_coef: 0.7442 - acc: 0.9366\n",
            "Epoch 00042: loss improved from 0.17775 to 0.17461, saving model to ./models/U_net_1E_16B.hdf5\n",
            "1600/1600 [==============================] - 996s 623ms/step - loss: 0.1746 - dice_coef: 0.7445 - acc: 0.9365 - val_loss: 0.1857 - val_dice_coef: 0.7306 - val_acc: 0.9319\n",
            "Epoch 43/50\n",
            "1568/1600 [============================>.] - ETA: 18s - loss: 0.1822 - dice_coef: 0.7344 - acc: 0.9342\n",
            "Epoch 00043: loss did not improve\n",
            "1600/1600 [==============================] - 997s 623ms/step - loss: 0.1814 - dice_coef: 0.7347 - acc: 0.9343 - val_loss: 0.2341 - val_dice_coef: 0.7141 - val_acc: 0.9194\n",
            "Epoch 44/50\n",
            "1568/1600 [============================>.] - ETA: 18s - loss: 0.1875 - dice_coef: 0.7265 - acc: 0.9331\n",
            "Epoch 00044: loss did not improve\n",
            "1600/1600 [==============================] - 999s 625ms/step - loss: 0.1866 - dice_coef: 0.7274 - acc: 0.9334 - val_loss: 0.1880 - val_dice_coef: 0.7248 - val_acc: 0.9312\n",
            "Epoch 45/50\n",
            "1568/1600 [============================>.] - ETA: 18s - loss: 0.1699 - dice_coef: 0.7466 - acc: 0.9378\n",
            "Epoch 00045: loss improved from 0.17461 to 0.16928, saving model to ./models/U_net_1E_16B.hdf5\n",
            "1600/1600 [==============================] - 998s 624ms/step - loss: 0.1693 - dice_coef: 0.7461 - acc: 0.9381 - val_loss: 0.1955 - val_dice_coef: 0.7397 - val_acc: 0.9301\n",
            "Epoch 46/50\n",
            "1568/1600 [============================>.] - ETA: 18s - loss: 0.1783 - dice_coef: 0.7433 - acc: 0.9349\n",
            "Epoch 00046: loss did not improve\n",
            "1600/1600 [==============================] - 997s 623ms/step - loss: 0.1776 - dice_coef: 0.7437 - acc: 0.9351 - val_loss: 0.1876 - val_dice_coef: 0.7392 - val_acc: 0.9302\n"
          ],
          "name": "stdout"
        },
        {
          "output_type": "stream",
          "text": [
            "Epoch 47/50\n",
            "1568/1600 [============================>.] - ETA: 18s - loss: 0.1709 - dice_coef: 0.7448 - acc: 0.9376\n",
            "Epoch 00047: loss did not improve\n",
            "1600/1600 [==============================] - 997s 623ms/step - loss: 0.1715 - dice_coef: 0.7446 - acc: 0.9373 - val_loss: 0.1841 - val_dice_coef: 0.7363 - val_acc: 0.9335\n",
            "Epoch 48/50\n",
            "1568/1600 [============================>.] - ETA: 18s - loss: 0.1718 - dice_coef: 0.7475 - acc: 0.9373\n",
            "Epoch 00048: loss did not improve\n",
            "1600/1600 [==============================] - 997s 623ms/step - loss: 0.1728 - dice_coef: 0.7474 - acc: 0.9368 - val_loss: 0.1833 - val_dice_coef: 0.7309 - val_acc: 0.9325\n",
            "Epoch 49/50\n",
            "1568/1600 [============================>.] - ETA: 18s - loss: 0.1750 - dice_coef: 0.7433 - acc: 0.9362\n",
            "Epoch 00049: loss did not improve\n",
            "1600/1600 [==============================] - 1018s 636ms/step - loss: 0.1749 - dice_coef: 0.7425 - acc: 0.9364 - val_loss: 0.1864 - val_dice_coef: 0.7347 - val_acc: 0.9310\n",
            "Epoch 50/50\n",
            "1568/1600 [============================>.] - ETA: 18s - loss: 0.1777 - dice_coef: 0.7437 - acc: 0.9349\n",
            "Epoch 00050: loss did not improve\n",
            "1600/1600 [==============================] - 1003s 627ms/step - loss: 0.1771 - dice_coef: 0.7429 - acc: 0.9351 - val_loss: 0.1887 - val_dice_coef: 0.7267 - val_acc: 0.9298\n"
          ],
          "name": "stdout"
        }
      ]
    },
    {
      "metadata": {
        "id": "9bU2BUAsA8B0",
        "colab_type": "code",
        "colab": {
          "autoexec": {
            "startup": false,
            "wait_interval": 0
          }
        }
      },
      "cell_type": "code",
      "source": [
        "pred = model.predict(testX,verbose=\"True\")"
      ],
      "execution_count": 0,
      "outputs": []
    },
    {
      "metadata": {
        "id": "UTdYjkqcld_o",
        "colab_type": "code",
        "colab": {
          "autoexec": {
            "startup": false,
            "wait_interval": 0
          },
          "base_uri": "https://localhost:8080/",
          "height": 34
        },
        "outputId": "a20c7fc0-7ae0-40ba-f260-4894358349c6",
        "executionInfo": {
          "status": "ok",
          "timestamp": 1523297208628,
          "user_tz": -330,
          "elapsed": 1430,
          "user": {
            "displayName": "Chandan Hiremath",
            "photoUrl": "//lh5.googleusercontent.com/-_5VFUxA4nts/AAAAAAAAAAI/AAAAAAAAB-o/5rqpy-uKmLo/s50-c-k-no/photo.jpg",
            "userId": "104980647446076431499"
          }
        }
      },
      "cell_type": "code",
      "source": [
        "print(\"[INFO] accuracy: {:.2f}%\".format(accuracy*100))"
      ],
      "execution_count": 3,
      "outputs": [
        {
          "output_type": "stream",
          "text": [
            "[INFO] accuracy: 93.51%\n"
          ],
          "name": "stdout"
        }
      ]
    }
  ]
}